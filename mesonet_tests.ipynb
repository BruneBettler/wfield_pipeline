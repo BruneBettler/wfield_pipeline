{
 "cells": [
  {
   "cell_type": "markdown",
   "id": "ea6bb0d7f8afe368",
   "metadata": {},
   "source": [
    "# MesoNet Testing\n",
    "\n",
    "MesoNet can be used through 5 different \"approaches\". This notebook will focus on the ATLAS -> BRAIN and BRAIN -> ATLAS methods. \n",
    "\n",
    "ATLAS -> BRAIN: \n",
    "- Given a pre-trained DeepLabCut model that was trained to associate anatomical landmarks with corresponding points on atlases of brain regions, this approach registers an atlas of brain regions to the fixed brain imaging data using affine transformations. This approach is useful if your data has common anatomical landmarks and is the most robust to variations in image quality and orientation within your data.\n",
    "\n",
    "BRAIN -> ATLAS:\n",
    "- Given a pre-trained DeepLabCut model that was trained to associate anatomical landmarks with corresponding points on atlases of brain regions, the brain imaging data is fixed onto an atlas of brain regions using affine transformations. This approach is useful if you would like to normalize your brain images to a common template based on anatomical landmarks.\n",
    "\n",
    "\n"
   ]
  },
  {
   "cell_type": "markdown",
   "id": "a984590b2c550737",
   "metadata": {},
   "source": [
    "---\n",
    "# Models\n",
    "- U-Net (.hdf5)\n",
    "- VoxelMorph (.h5) \n",
    "\n",
    "The models (which ever selected) needs to be in a folder called models within the *mesonet* directory of the MesoNet git repo."
   ]
  },
  {
   "cell_type": "markdown",
   "id": "f2fd45555738db4",
   "metadata": {},
   "source": [
    "write this code in your terminal once :) \n",
    "\n",
    "```\n",
    "conda activate DEEPLABCUT\n",
    "conda install jupyter ipykernel\n",
    "python -m ipykernel install --user --name DEEPLABCUT --display-name \"Python (DEEPLABCUT)\"\n",
    "```"
   ]
  },
  {
   "cell_type": "code",
   "execution_count": 4,
   "outputs": [],
   "source": [
    "# set verbose to True if you want to get feedback from each cell\n",
    "verbose = True"
   ],
   "metadata": {
    "collapsed": false,
    "pycharm": {
     "name": "#%%\n"
    }
   }
  },
  {
   "cell_type": "code",
   "id": "7a6aa3b2c42866ee",
   "metadata": {
    "ExecuteTime": {
     "end_time": "2024-07-30T19:37:32.076952Z",
     "start_time": "2024-07-30T19:37:28.776507Z"
    }
   },
   "source": [
    "# import all necessary modules\n",
    "import mesonet\n",
    "from data_loading_functions import *\n",
    "\n",
    "if verbose: print(\"Done importing MesoNet and helper functions.\")"
   ],
   "outputs": [
    {
     "name": "stdout",
     "output_type": "stream",
     "text": [
      "Done importing MesoNet and helper functions.\n"
     ]
    }
   ],
   "execution_count": 9
  },
  {
   "cell_type": "markdown",
   "source": [
    "---\n",
    "# Brain Images\n",
    "\n",
    "Place all brain images in a single directory\n",
    "- ideally images are 8-bit and in .png format\n",
    "- you can also use .tif format for mesonet to analyze all images in stack\n",
    "- .npy also works :)"
   ],
   "metadata": {
    "collapsed": false
   }
  },
  {
   "cell_type": "code",
   "execution_count": 12,
   "outputs": [
    {
     "name": "stdout",
     "output_type": "stream",
     "text": [
      "Image stack successfully loaded. It has shape: (9116, 1, 640, 540).\n"
     ]
    }
   ],
   "source": [
    "# our pipeline works with a stack of np arrays representing the images.\n",
    "# prepare the data as it would appear after coming out of the preprocessing pipeline.\n",
    "# We only want access to the blue frames (one channel)\n",
    "\n",
    "np_image_stack = load_dat_frames(filename=\"Frames_1_640_540_uint16_0001.dat\")\n",
    "\n",
    "if verbose: print(f\"Image stack successfully loaded. It has shape: {np_image_stack.shape}.\")"
   ],
   "metadata": {
    "collapsed": false,
    "pycharm": {
     "name": "#%%\n"
    }
   }
  },
  {
   "cell_type": "code",
   "execution_count": 8,
   "outputs": [
    {
     "name": "stderr",
     "output_type": "stream",
     "text": [
      "Exception ignored in: <bound method IPythonKernel._clean_thread_parent_frames of <ipykernel.ipkernel.IPythonKernel object at 0x107e4e910>>\n",
      "Traceback (most recent call last):\n",
      "  File \"/Users/brune/anaconda3/envs/DEEPLABCUT/lib/python3.9/site-packages/ipykernel/ipkernel.py\", line 770, in _clean_thread_parent_frames\n",
      "    def _clean_thread_parent_frames(\n",
      "KeyboardInterrupt: \n"
     ]
    },
    {
     "ename": "KeyboardInterrupt",
     "evalue": "",
     "output_type": "error",
     "traceback": [
      "\u001B[0;31m---------------------------------------------------------------------------\u001B[0m",
      "\u001B[0;31mTypeError\u001B[0m                                 Traceback (most recent call last)",
      "File \u001B[0;32m~/anaconda3/envs/DEEPLABCUT/lib/python3.9/site-packages/mesonet/utils.py:246\u001B[0m, in \u001B[0;36mfind_git_repo\u001B[0;34m()\u001B[0m\n\u001B[1;32m    245\u001B[0m \u001B[38;5;28;01mtry\u001B[39;00m:\n\u001B[0;32m--> 246\u001B[0m     git_repo_base \u001B[38;5;241m=\u001B[39m \u001B[43mos\u001B[49m\u001B[38;5;241;43m.\u001B[39;49m\u001B[43mpath\u001B[49m\u001B[38;5;241;43m.\u001B[39;49m\u001B[43mjoin\u001B[49m\u001B[43m(\u001B[49m\u001B[43mos\u001B[49m\u001B[38;5;241;43m.\u001B[39;49m\u001B[43mgetenv\u001B[49m\u001B[43m(\u001B[49m\u001B[38;5;124;43m\"\u001B[39;49m\u001B[38;5;124;43mMESONET_GIT\u001B[39;49m\u001B[38;5;124;43m\"\u001B[39;49m\u001B[43m)\u001B[49m\u001B[43m,\u001B[49m\u001B[43m \u001B[49m\u001B[38;5;124;43m\"\u001B[39;49m\u001B[38;5;124;43mmesonet\u001B[39;49m\u001B[38;5;124;43m\"\u001B[39;49m\u001B[43m)\u001B[49m\n\u001B[1;32m    247\u001B[0m     \u001B[38;5;28mprint\u001B[39m(\n\u001B[1;32m    248\u001B[0m         \u001B[38;5;124m\"\u001B[39m\u001B[38;5;124mMesoNet git repo found at \u001B[39m\u001B[38;5;132;01m{}\u001B[39;00m\u001B[38;5;124m, skipping directory check...\u001B[39m\u001B[38;5;124m\"\u001B[39m\u001B[38;5;241m.\u001B[39mformat(\n\u001B[1;32m    249\u001B[0m             git_repo_base\n\u001B[1;32m    250\u001B[0m         )\n\u001B[1;32m    251\u001B[0m     )\n",
      "File \u001B[0;32m~/anaconda3/envs/DEEPLABCUT/lib/python3.9/posixpath.py:76\u001B[0m, in \u001B[0;36mjoin\u001B[0;34m(a, *p)\u001B[0m\n\u001B[1;32m     72\u001B[0m \u001B[38;5;250m\u001B[39m\u001B[38;5;124;03m\"\"\"Join two or more pathname components, inserting '/' as needed.\u001B[39;00m\n\u001B[1;32m     73\u001B[0m \u001B[38;5;124;03mIf any component is an absolute path, all previous path components\u001B[39;00m\n\u001B[1;32m     74\u001B[0m \u001B[38;5;124;03mwill be discarded.  An empty last part will result in a path that\u001B[39;00m\n\u001B[1;32m     75\u001B[0m \u001B[38;5;124;03mends with a separator.\"\"\"\u001B[39;00m\n\u001B[0;32m---> 76\u001B[0m a \u001B[38;5;241m=\u001B[39m \u001B[43mos\u001B[49m\u001B[38;5;241;43m.\u001B[39;49m\u001B[43mfspath\u001B[49m\u001B[43m(\u001B[49m\u001B[43ma\u001B[49m\u001B[43m)\u001B[49m\n\u001B[1;32m     77\u001B[0m sep \u001B[38;5;241m=\u001B[39m _get_sep(a)\n",
      "\u001B[0;31mTypeError\u001B[0m: expected str, bytes or os.PathLike object, not NoneType",
      "\nDuring handling of the above exception, another exception occurred:\n",
      "\u001B[0;31mKeyboardInterrupt\u001B[0m                         Traceback (most recent call last)",
      "Cell \u001B[0;32mIn[8], line 7\u001B[0m\n\u001B[1;32m      4\u001B[0m output_file \u001B[38;5;241m=\u001B[39m \u001B[38;5;124m'\u001B[39m\u001B[38;5;124mpath/to/output/folder\u001B[39m\u001B[38;5;124m'\u001B[39m\n\u001B[1;32m      6\u001B[0m \u001B[38;5;66;03m# prepare a configure file that will be used to ___\u001B[39;00m\n\u001B[0;32m----> 7\u001B[0m config_file \u001B[38;5;241m=\u001B[39m \u001B[43mmesonet\u001B[49m\u001B[38;5;241;43m.\u001B[39;49m\u001B[43mconfig_project\u001B[49m\u001B[43m(\u001B[49m\u001B[43minput_file\u001B[49m\u001B[43m,\u001B[49m\u001B[43m \u001B[49m\u001B[43moutput_file\u001B[49m\u001B[43m,\u001B[49m\u001B[43m \u001B[49m\u001B[38;5;124;43m'\u001B[39;49m\u001B[38;5;124;43mtest\u001B[39;49m\u001B[38;5;124;43m'\u001B[39;49m\u001B[43m)\u001B[49m\n\u001B[1;32m      9\u001B[0m \u001B[38;5;28;01mif\u001B[39;00m verbose: \u001B[38;5;124m\"\u001B[39m\u001B[38;5;124mconfig_file has been created with input_file and output_file paths\u001B[39m\u001B[38;5;124m\"\u001B[39m\n",
      "File \u001B[0;32m~/anaconda3/envs/DEEPLABCUT/lib/python3.9/site-packages/mesonet/utils.py:138\u001B[0m, in \u001B[0;36mconfig_project\u001B[0;34m(input_dir, output_dir, mode, model_name, config, atlas, sensory_match, sensory_path, mask_generate, mat_save, use_unet, use_dlc, atlas_to_brain_align, olfactory_check, plot_landmarks, align_once, original_label, use_voxelmorph, exist_transform, voxelmorph_model, template_path, flow_path, coords_input_file, atlas_label_list, threshold, model, region_labels, steps_per_epoch, epochs, rotation_range, width_shift_range, height_shift_range, shear_range, zoom_range, horizontal_flip, fill_mode)\u001B[0m\n\u001B[1;32m     59\u001B[0m \u001B[38;5;250m\u001B[39m\u001B[38;5;124;03m\"\"\"\u001B[39;00m\n\u001B[1;32m     60\u001B[0m \u001B[38;5;124;03mGenerates a config file (mesonet_train_config.yaml or mesonet_test_config.yaml, depending on whether you are\u001B[39;00m\n\u001B[1;32m     61\u001B[0m \u001B[38;5;124;03mapplying an existing model or training a new one).\u001B[39;00m\n\u001B[0;32m   (...)\u001B[0m\n\u001B[1;32m    134\u001B[0m \n\u001B[1;32m    135\u001B[0m \u001B[38;5;124;03m\"\"\"\u001B[39;00m\n\u001B[1;32m    137\u001B[0m \u001B[38;5;66;03m# git_repo_base = 'C:/Users/mind reader/Desktop/mesonet/mesonet'\u001B[39;00m\n\u001B[0;32m--> 138\u001B[0m git_repo_base \u001B[38;5;241m=\u001B[39m \u001B[43mfind_git_repo\u001B[49m\u001B[43m(\u001B[49m\u001B[43m)\u001B[49m\n\u001B[1;32m    139\u001B[0m \u001B[38;5;28mprint\u001B[39m(git_repo_base)\n\u001B[1;32m    140\u001B[0m config \u001B[38;5;241m=\u001B[39m join(git_repo_base, config)\n",
      "File \u001B[0;32m~/anaconda3/envs/DEEPLABCUT/lib/python3.9/site-packages/mesonet/utils.py:283\u001B[0m, in \u001B[0;36mfind_git_repo\u001B[0;34m()\u001B[0m\n\u001B[1;32m    281\u001B[0m \u001B[38;5;28;01melif\u001B[39;00m in_colab:\n\u001B[1;32m    282\u001B[0m     root_folder \u001B[38;5;241m=\u001B[39m \u001B[38;5;124m\"\u001B[39m\u001B[38;5;124m/content\u001B[39m\u001B[38;5;124m\"\u001B[39m\n\u001B[0;32m--> 283\u001B[0m \u001B[38;5;28;01mfor\u001B[39;00m root, dirs, files \u001B[38;5;129;01min\u001B[39;00m os\u001B[38;5;241m.\u001B[39mwalk(root_folder):\n\u001B[1;32m    284\u001B[0m     \u001B[38;5;28;01mif\u001B[39;00m git_repo_marker \u001B[38;5;129;01min\u001B[39;00m files:\n\u001B[1;32m    285\u001B[0m         git_repo_base \u001B[38;5;241m=\u001B[39m root\n",
      "File \u001B[0;32m~/anaconda3/envs/DEEPLABCUT/lib/python3.9/os.py:418\u001B[0m, in \u001B[0;36m_walk\u001B[0;34m(top, topdown, onerror, followlinks)\u001B[0m\n\u001B[1;32m    413\u001B[0m         \u001B[38;5;66;03m# Issue #23605: os.path.islink() is used instead of caching\u001B[39;00m\n\u001B[1;32m    414\u001B[0m         \u001B[38;5;66;03m# entry.is_symlink() result during the loop on os.scandir() because\u001B[39;00m\n\u001B[1;32m    415\u001B[0m         \u001B[38;5;66;03m# the caller can replace the directory entry during the \"yield\"\u001B[39;00m\n\u001B[1;32m    416\u001B[0m         \u001B[38;5;66;03m# above.\u001B[39;00m\n\u001B[1;32m    417\u001B[0m         \u001B[38;5;28;01mif\u001B[39;00m followlinks \u001B[38;5;129;01mor\u001B[39;00m \u001B[38;5;129;01mnot\u001B[39;00m islink(new_path):\n\u001B[0;32m--> 418\u001B[0m             \u001B[38;5;28;01myield from\u001B[39;00m _walk(new_path, topdown, onerror, followlinks)\n\u001B[1;32m    419\u001B[0m \u001B[38;5;28;01melse\u001B[39;00m:\n\u001B[1;32m    420\u001B[0m     \u001B[38;5;66;03m# Recurse into sub-directories\u001B[39;00m\n\u001B[1;32m    421\u001B[0m     \u001B[38;5;28;01mfor\u001B[39;00m new_path \u001B[38;5;129;01min\u001B[39;00m walk_dirs:\n",
      "File \u001B[0;32m~/anaconda3/envs/DEEPLABCUT/lib/python3.9/os.py:418\u001B[0m, in \u001B[0;36m_walk\u001B[0;34m(top, topdown, onerror, followlinks)\u001B[0m\n\u001B[1;32m    413\u001B[0m         \u001B[38;5;66;03m# Issue #23605: os.path.islink() is used instead of caching\u001B[39;00m\n\u001B[1;32m    414\u001B[0m         \u001B[38;5;66;03m# entry.is_symlink() result during the loop on os.scandir() because\u001B[39;00m\n\u001B[1;32m    415\u001B[0m         \u001B[38;5;66;03m# the caller can replace the directory entry during the \"yield\"\u001B[39;00m\n\u001B[1;32m    416\u001B[0m         \u001B[38;5;66;03m# above.\u001B[39;00m\n\u001B[1;32m    417\u001B[0m         \u001B[38;5;28;01mif\u001B[39;00m followlinks \u001B[38;5;129;01mor\u001B[39;00m \u001B[38;5;129;01mnot\u001B[39;00m islink(new_path):\n\u001B[0;32m--> 418\u001B[0m             \u001B[38;5;28;01myield from\u001B[39;00m _walk(new_path, topdown, onerror, followlinks)\n\u001B[1;32m    419\u001B[0m \u001B[38;5;28;01melse\u001B[39;00m:\n\u001B[1;32m    420\u001B[0m     \u001B[38;5;66;03m# Recurse into sub-directories\u001B[39;00m\n\u001B[1;32m    421\u001B[0m     \u001B[38;5;28;01mfor\u001B[39;00m new_path \u001B[38;5;129;01min\u001B[39;00m walk_dirs:\n",
      "    \u001B[0;31m[... skipping similar frames: _walk at line 418 (7 times)]\u001B[0m\n",
      "File \u001B[0;32m~/anaconda3/envs/DEEPLABCUT/lib/python3.9/os.py:418\u001B[0m, in \u001B[0;36m_walk\u001B[0;34m(top, topdown, onerror, followlinks)\u001B[0m\n\u001B[1;32m    413\u001B[0m         \u001B[38;5;66;03m# Issue #23605: os.path.islink() is used instead of caching\u001B[39;00m\n\u001B[1;32m    414\u001B[0m         \u001B[38;5;66;03m# entry.is_symlink() result during the loop on os.scandir() because\u001B[39;00m\n\u001B[1;32m    415\u001B[0m         \u001B[38;5;66;03m# the caller can replace the directory entry during the \"yield\"\u001B[39;00m\n\u001B[1;32m    416\u001B[0m         \u001B[38;5;66;03m# above.\u001B[39;00m\n\u001B[1;32m    417\u001B[0m         \u001B[38;5;28;01mif\u001B[39;00m followlinks \u001B[38;5;129;01mor\u001B[39;00m \u001B[38;5;129;01mnot\u001B[39;00m islink(new_path):\n\u001B[0;32m--> 418\u001B[0m             \u001B[38;5;28;01myield from\u001B[39;00m _walk(new_path, topdown, onerror, followlinks)\n\u001B[1;32m    419\u001B[0m \u001B[38;5;28;01melse\u001B[39;00m:\n\u001B[1;32m    420\u001B[0m     \u001B[38;5;66;03m# Recurse into sub-directories\u001B[39;00m\n\u001B[1;32m    421\u001B[0m     \u001B[38;5;28;01mfor\u001B[39;00m new_path \u001B[38;5;129;01min\u001B[39;00m walk_dirs:\n",
      "File \u001B[0;32m~/anaconda3/envs/DEEPLABCUT/lib/python3.9/os.py:367\u001B[0m, in \u001B[0;36m_walk\u001B[0;34m(top, topdown, onerror, followlinks)\u001B[0m\n\u001B[1;32m    365\u001B[0m \u001B[38;5;28;01mtry\u001B[39;00m:\n\u001B[1;32m    366\u001B[0m     \u001B[38;5;28;01mtry\u001B[39;00m:\n\u001B[0;32m--> 367\u001B[0m         entry \u001B[38;5;241m=\u001B[39m \u001B[38;5;28;43mnext\u001B[39;49m\u001B[43m(\u001B[49m\u001B[43mscandir_it\u001B[49m\u001B[43m)\u001B[49m\n\u001B[1;32m    368\u001B[0m     \u001B[38;5;28;01mexcept\u001B[39;00m \u001B[38;5;167;01mStopIteration\u001B[39;00m:\n\u001B[1;32m    369\u001B[0m         \u001B[38;5;28;01mbreak\u001B[39;00m\n",
      "\u001B[0;31mKeyboardInterrupt\u001B[0m: "
     ]
    }
   ],
   "source": [
    "# configure the path of the input folder and desired out_put folder\n",
    "\n",
    "input_file = np_image_stack # or 'path/to/input/folder'\n",
    "output_file = '/Users/brune/PycharmProjects/wfield_pipeline/mesonet_outputs'  # 'path/to/output/folder'\n",
    "\n",
    "# prepare a configure file that will be used to ___\n",
    "config_file = mesonet.config_project(input_file, output_file, 'test')\n",
    "\n",
    "if verbose: \"config_file has been created with input_file and output_file paths\""
   ],
   "metadata": {
    "collapsed": false,
    "pycharm": {
     "name": "#%%\n"
    }
   }
  },
  {
   "cell_type": "markdown",
   "id": "cce1116702e25396",
   "metadata": {
    "pycharm": {
     "name": "#%% md\n"
    }
   },
   "source": []
  },
  {
   "cell_type": "code",
   "execution_count": null,
   "outputs": [],
   "source": [
    "mesonet.predict_regions(config_file)\n",
    "mesonet.predict_dlc(config_file)"
   ],
   "metadata": {
    "collapsed": false,
    "pycharm": {
     "name": "#%%\n"
    }
   }
  }
 ],
 "metadata": {
  "kernelspec": {
   "display_name": "Python (DEEPLABCUT)",
   "language": "python",
   "name": "deeplabcut"
  },
  "language_info": {
   "codemirror_mode": {
    "name": "ipython",
    "version": 3
   },
   "file_extension": ".py",
   "mimetype": "text/x-python",
   "name": "python",
   "nbconvert_exporter": "python",
   "pygments_lexer": "ipython3",
   "version": "3.10.14"
  }
 },
 "nbformat": 4,
 "nbformat_minor": 5
}