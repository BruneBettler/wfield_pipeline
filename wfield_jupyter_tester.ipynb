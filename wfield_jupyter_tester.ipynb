{
 "cells": [
  {
   "cell_type": "code",
   "execution_count": 1,
   "metadata": {},
   "outputs": [],
   "source": [
    "# The following file is being used to test the Pipeline\n",
    "import matplotlib.pyplot as plt\n",
    "''' Import statements for all the files involved'''\n",
    "from main import *\n",
    "from utils import *\n",
    "from wfield_utils import *\n",
    "from registration import *\n",
    "from hemocorrection import *\n",
    "from denoising import *\n",
    "from debug_visualize import *\n",
    "from data_loading_functions import *\n",
    "from data_preprocessor import *\n",
    "from tqdm import tqdm"
   ]
  },
  {
   "cell_type": "code",
   "execution_count": 2,
   "metadata": {},
   "outputs": [],
   "source": [
    "# The folllowing code is from main(). \n",
    "# params are global variables used to modify the code\n",
    "params = {\n",
    "    'path_to_session_data':       r\"C:\\Users\\evilm\\Downloads\\07-18-2024\",\n",
    "    'pipe_num':           0,              # select desired pipeline number\n",
    "    'get_raw_brightness': False,\n",
    "    'get_DeltaF':         False,\n",
    "    'get_zScore':         False\n",
    "          }\n",
    "# This is inside def main()\n",
    "# For purposes of testing to visualise the data we will do analysis here.\n",
    "#session_file_paths = get_file_paths(params['path_to_session_data'])\n",
    "# create an obj for each recording within the session\n",
    "# recordings = {}\n",
    "# if session_file_paths != 0:\n",
    "#     n = 1\n",
    "#     recordings[f'recording_{n}'] = rawDataPreprocessor(params['path_to_session_data'])\n",
    "\n",
    "# print(f'{datetime.datetime.now().time()}: Done loading session data into object')\n"
   ]
  },
  {
   "cell_type": "code",
   "execution_count": null,
   "metadata": {},
   "outputs": [],
   "source": [
    "# Testing motion correction\n",
    "#print(f'{datetime.datetime.now().time()}: Starting Motion Correction')\n",
    "#_, _, motion_corrected_frames_all = motion_correct(dat=recordings['recording_1'].all_frames, out=None, mode='ecc', apply_shifts=True)\n",
    "#print(f'{datetime.datetime.now().time()}: Done Motion Correction')\n",
    "#np.save(params['path_to_session_data']+\"\\motion_corrected_data\",motion_corrected_frames_all)"
   ]
  },
  {
   "cell_type": "code",
   "execution_count": 3,
   "metadata": {},
   "outputs": [],
   "source": [
    "motion_corrected_frames_all = np.load(r\"C:\\Users\\evilm\\Downloads\\07-18-2024\\motion_corrected_data.npy\")"
   ]
  },
  {
   "cell_type": "code",
   "execution_count": 4,
   "metadata": {},
   "outputs": [
    {
     "name": "stderr",
     "output_type": "stream",
     "text": [
      "100%|██████████| 2000/2000 [00:05<00:00, 389.91it/s]\n",
      "100%|██████████| 2000/2000 [01:37<00:00, 20.58it/s] \n",
      "100%|██████████| 2000/2000 [00:35<00:00, 56.20it/s] \n"
     ]
    }
   ],
   "source": [
    "blue_frames = motion_corrected_frames_all[0:2000,0,...]\n",
    "violet_frames = motion_corrected_frames_all[0:2000,1,...]\n",
    "motion_corrected_frames_all = []\n",
    "\n",
    "# Testing Normalising \n",
    "blue_normalised_frames = [(frame-np.min(frame))/(np.max(frame)-np.min(frame)) for frame in tqdm(blue_frames[:])]\n",
    "viol_normalised_frames = [(frame-np.min(frame))/(np.max(frame)-np.min(frame)) for frame in tqdm(violet_frames[:])]\n",
    "\n",
    "hemo_corrected_frames = [(blue_normalised_frames[i] - viol_normalised_frames[i]) for i in tqdm(range(len(blue_normalised_frames)))]"
   ]
  },
  {
   "cell_type": "code",
   "execution_count": 6,
   "metadata": {},
   "outputs": [
    {
     "name": "stderr",
     "output_type": "stream",
     "text": [
      "100%|██████████| 2000/2000 [00:03<00:00, 525.51it/s]\n"
     ]
    }
   ],
   "source": [
    "# %matplotlib inline\n",
    "# import matplotlib.animation as animation\n",
    "# plt.figure\n",
    "# plt.imshow(blue_normalised_frames[0],cmap='gray')\n",
    "# plt.show()\n",
    "\n",
    "# plt.figure\n",
    "# plt.imshow(viol_normalised_frames[0],cmap='gray')\n",
    "# plt.show()\n",
    "\n",
    "# hemo_corr = blue_normalised_frames[0]-viol_normalised_frames[0]\n",
    "# plt.figure\n",
    "# plt.imshow(hemo_corr,cmap='gray')\n",
    "# plt.show()\n",
    "\n",
    "# print(np.max(hemo_corr))\n",
    "# print(np.min(hemo_corr))\n",
    "# hemo_corr = (hemo_corr - np.min(hemo_corr))/(np.max(hemo_corr)-np.min(hemo_corr))\n",
    "\n",
    "# plt.figure\n",
    "# plt.imshow(hemo_corr,cmap='gray')\n",
    "# plt.show()\n",
    "# print(np.max(hemo_corr))\n",
    "# print(np.min(hemo_corr))\n",
    "\n",
    "frames = []\n",
    "fig = plt.figure()\n",
    "for i in tqdm(range(len(hemo_corrected_frames))):\n",
    "    frames.append([plt.imshow(hemo_corrected_frames[i],\n",
    "                             cmap=plt.cm.Greys_r, animated = True)])\n",
    "ani = animation.ArtistAnimation(fig,frames,interval=40, blit = True, repeat_delay=1000)\n",
    "#ni.save('movie.mp4')\n",
    "plt.show()\n"
   ]
  },
  {
   "cell_type": "code",
   "execution_count": null,
   "metadata": {},
   "outputs": [],
   "source": [
    "# Testing Denoising and Compression\n",
    "motion_corrected_frames_all = np.load(r\"C:\\Users\\evilm\\Downloads\\07-18-2024\\motion_corrected_data.npy\")\n",
    "# 2. Denoising and Compression\n",
    "print(f'{datetime.datetime.now().time()}: Starting  Blue Frames')\n",
    "denoised_blue_frames, blueU, blueS, blueVT = denoise_svd(motion_corrected_frames_all[:,0,...],rank=200) # only denoise blue channel for now\n",
    "print(f'{datetime.datetime.now().time()}: Done Denoising Blue Frames')\n",
    "\n",
    "print(f'{datetime.datetime.now().time()}: Starting  Violet Frames')\n",
    "denoised_violet_frames, violetU, violetS, violetVT = denoise_svd(motion_corrected_frames_all[:,1,...],rank=200) # only denoise blue channel for now\n",
    "print(f'{datetime.datetime.now().time()}: Done Denoising Violet Frames')\n",
    "\n",
    "np.save(params['path_to_session_data']+\"\\denoised_blue_frames\",denoised_blue_frames)\n",
    "np.save(params['path_to_session_data']+\"\\denoised_violet_frames\",denoised_violet_frames)\n",
    "np.save(params['path_to_session_data']+\"\\blueU\",blueU)\n",
    "np.save(params['path_to_session_data']+\"\\blueS\",blueS)\n",
    "np.save(params['path_to_session_data']+\"\\blueVT\",blueVT)\n",
    "np.save(params['path_to_session_data']+\"\\violetU\",violetU)\n",
    "np.save(params['path_to_session_data']+\"\\violetS\",violetS)\n",
    "np.save(params['path_to_session_data']+\"\\violetVT\",violetVT)"
   ]
  },
  {
   "cell_type": "code",
   "execution_count": null,
   "metadata": {},
   "outputs": [],
   "source": [
    "#get_recording_paths(params['path_to_session_data'])\n",
    "'''\n",
    "data = recordings['recording_1'].demo_pipeline()\n",
    "data = np.array(data)\n",
    "np.save(params['path_to_session_data']+\"\\blue_frame_data\",data)\n",
    "'''"
   ]
  },
  {
   "cell_type": "code",
   "execution_count": null,
   "metadata": {},
   "outputs": [],
   "source": [
    "#data = np.load(r\"C:\\Users\\evilm\\Downloads\\07-18-2024\\blue_frame_data.npy\")"
   ]
  },
  {
   "cell_type": "code",
   "execution_count": null,
   "metadata": {},
   "outputs": [],
   "source": [
    "#%matplotlib inline\n",
    "#plt.imshow(np.mean(data,axis=0),cmap=\"gray\")\n",
    "#plt.show()"
   ]
  }
 ],
 "metadata": {
  "kernelspec": {
   "display_name": "Python 3",
   "language": "python",
   "name": "python3"
  },
  "language_info": {
   "codemirror_mode": {
    "name": "ipython",
    "version": 3
   },
   "file_extension": ".py",
   "mimetype": "text/x-python",
   "name": "python",
   "nbconvert_exporter": "python",
   "pygments_lexer": "ipython3",
   "version": "3.11.9"
  }
 },
 "nbformat": 4,
 "nbformat_minor": 2
}
