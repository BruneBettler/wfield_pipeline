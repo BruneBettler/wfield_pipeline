{
 "cells": [
  {
   "cell_type": "code",
   "execution_count": 13,
   "metadata": {},
   "outputs": [],
   "source": [
    "# The following file is being used to test the Pipeline\n",
    "import matplotlib.pyplot as plt\n",
    "''' Import statements for all the files involved'''\n",
    "from main import *\n",
    "from utils import *\n",
    "from wfield_utils import *\n",
    "from registration import *\n",
    "from hemocorrection import *\n",
    "from denoising import *\n",
    "from debug_visualize import *\n",
    "from data_loading_functions import *\n",
    "from data_preprocessor import *\n",
    "from tqdm import tqdm\n",
    "import pickle\n",
    "import scipy.io"
   ]
  },
  {
   "cell_type": "code",
   "execution_count": 25,
   "metadata": {},
   "outputs": [
    {
     "name": "stdout",
     "output_type": "stream",
     "text": [
      "14:30:12.794577: Done loading session data into object\n"
     ]
    },
    {
     "name": "stderr",
     "output_type": "stream",
     "text": [
      "C:\\Users\\evilm\\AppData\\Local\\Temp\\ipykernel_101948\\934647974.py:27: DeprecationWarning: tostring() is deprecated. Use tobytes() instead.\n",
      "  olfac_configs = pickle.loads(scipy.io.loadmat(olfac_matfile)['configs'].tostring())\n",
      "C:\\Users\\evilm\\AppData\\Local\\Temp\\ipykernel_101948\\934647974.py:28: DeprecationWarning: tostring() is deprecated. Use tobytes() instead.\n",
      "  olfac_experiment_start_timestamp = pickle.loads(scipy.io.loadmat(olfac_matfile)['experiment_start_timestamp'].tostring())\n",
      "C:\\Users\\evilm\\AppData\\Local\\Temp\\ipykernel_101948\\934647974.py:29: DeprecationWarning: tostring() is deprecated. Use tobytes() instead.\n",
      "  olfac_parameters = pickle.loads(scipy.io.loadmat(olfac_matfile)['parameters'].tostring())\n",
      "C:\\Users\\evilm\\AppData\\Local\\Temp\\ipykernel_101948\\934647974.py:31: DeprecationWarning: tostring() is deprecated. Use tobytes() instead.\n",
      "  olfac_stim_frame_info = pickle.loads(scipy.io.loadmat(olfac_matfile)['stimulus_frame_info'].tostring())\n",
      "C:\\Users\\evilm\\AppData\\Local\\Temp\\ipykernel_101948\\934647974.py:32: DeprecationWarning: tostring() is deprecated. Use tobytes() instead.\n",
      "  olfac_stim_frame_info_text = pickle.loads(scipy.io.loadmat(olfac_matfile)['stimulus_frame_info_text'].tostring())\n",
      "C:\\Users\\evilm\\AppData\\Local\\Temp\\ipykernel_101948\\934647974.py:33: DeprecationWarning: tostring() is deprecated. Use tobytes() instead.\n",
      "  olfac_user_data = pickle.loads(scipy.io.loadmat(olfac_matfile)['user_data'].tostring())\n"
     ]
    }
   ],
   "source": [
    "# The folllowing code is from main(). \n",
    "# params are global variables used to modify the code\n",
    "params = {\n",
    "    'path_to_session_data':       r\"C:\\Users\\evilm\\Downloads\\07-29-2024\",\n",
    "    'pipe_num':           0,              # select desired pipeline number\n",
    "    'get_raw_brightness': False,\n",
    "    'get_DeltaF':         False,\n",
    "    'get_zScore':         False\n",
    "          }\n",
    "# This is inside def main()\n",
    "# For purposes of testing to visualise the data we will do analysis here.\n",
    "session_file_paths = get_file_paths(params['path_to_session_data'])\n",
    "#print(session_file_paths)\n",
    "# create an obj for each recording within the session\n",
    "recording = rawDataPreprocessor(params['path_to_session_data'])\n",
    "\n",
    "print(f'{datetime.datetime.now().time()}: Done loading session data into object')\n",
    "\n",
    "# Currently \n",
    "# recording.all_frames.shape\n",
    "blue_frames = recording.all_frames[:,0,...]\n",
    "analog_data = load_dat_analog(recording.path_to_analog)\n",
    "frame_times = load_mat_frameTimes(recording.path_to_frameTimes)\n",
    "blue_ftimes = frame_times['frameTimes']\n",
    "\n",
    "olfac_matfile = r\"C:\\Users\\evilm\\Downloads\\07-29-2024\\data_mixed_full_grating_OdorStimulus_202407291652168_mat.mat\"\n",
    "olfac_configs = pickle.loads(scipy.io.loadmat(olfac_matfile)['configs'].tostring())\n",
    "olfac_experiment_start_timestamp = pickle.loads(scipy.io.loadmat(olfac_matfile)['experiment_start_timestamp'].tostring())\n",
    "#olfac_parameters = pickle.loads(scipy.io.loadmat(olfac_matfile)['parameters'].tostring())\n",
    "# Skipping software environement\n",
    "olfac_stim_frame_info = pickle.loads(scipy.io.loadmat(olfac_matfile)['stimulus_frame_info'].tostring())\n",
    "#olfac_stim_frame_info_text = pickle.loads(scipy.io.loadmat(olfac_matfile)['stimulus_frame_info_text'].tostring())\n",
    "olfac_user_data = pickle.loads(scipy.io.loadmat(olfac_matfile)['user_data'].tostring())\n",
    "olfac_sync = scipy.io.loadmat(olfac_matfile)['sync']"
   ]
  },
  {
   "cell_type": "code",
   "execution_count": 57,
   "metadata": {},
   "outputs": [
    {
     "data": {
      "text/plain": [
       "array([-6.01725245, -6.01708055, -6.01683092, -6.01664019, -6.01618314,\n",
       "       -6.01606846, -6.01604295, -6.01603913, -6.0159061 , -6.01567531,\n",
       "       -6.0155549 , -6.01553082, -6.0155201 , -6.01535964, -6.01529241,\n",
       "       -6.01525378, -6.01517439, -6.01513648, -6.01498866, -6.01479578,\n",
       "       -6.01469254, -6.01460528, -6.0145483 , -6.0137763 , -6.00616455])"
      ]
     },
     "execution_count": 57,
     "metadata": {},
     "output_type": "execute_result"
    }
   ],
   "source": [
    "#len(list(olfac_user_data)[0])\n",
    "#  - list(olfac_stim_frame_info)[1::2]['time']\n",
    "# Olfac Times\n",
    "olfac_odortimes = np.array([time['time'] for time in list(olfac_stim_frame_info) ])\n",
    "np.unique(olfac_odortimes[::2]-olfac_odortimes[1::2])"
   ]
  },
  {
   "cell_type": "code",
   "execution_count": 75,
   "metadata": {},
   "outputs": [
    {
     "ename": "IndexError",
     "evalue": "index 5 is out of bounds for axis 1 with size 5",
     "output_type": "error",
     "traceback": [
      "\u001b[1;31m---------------------------------------------------------------------------\u001b[0m",
      "\u001b[1;31mIndexError\u001b[0m                                Traceback (most recent call last)",
      "Cell \u001b[1;32mIn[75], line 5\u001b[0m\n\u001b[0;32m      2\u001b[0m mpl\u001b[38;5;241m.\u001b[39mrcParams[\u001b[38;5;124m'\u001b[39m\u001b[38;5;124magg.path.chunksize\u001b[39m\u001b[38;5;124m'\u001b[39m] \u001b[38;5;241m=\u001b[39m \u001b[38;5;241m100000\u001b[39m\n\u001b[0;32m      4\u001b[0m get_ipython()\u001b[38;5;241m.\u001b[39mrun_line_magic(\u001b[38;5;124m'\u001b[39m\u001b[38;5;124mmatplotlib\u001b[39m\u001b[38;5;124m'\u001b[39m, \u001b[38;5;124m'\u001b[39m\u001b[38;5;124minline\u001b[39m\u001b[38;5;124m'\u001b[39m)\n\u001b[1;32m----> 5\u001b[0m plt\u001b[38;5;241m.\u001b[39mplot(\u001b[43molfac_sync\u001b[49m\u001b[43m[\u001b[49m\u001b[43m:\u001b[49m\u001b[43m,\u001b[49m\u001b[38;5;241;43m5\u001b[39;49m\u001b[43m]\u001b[49m)\n\u001b[0;32m      6\u001b[0m plt\u001b[38;5;241m.\u001b[39mshow()\n",
      "\u001b[1;31mIndexError\u001b[0m: index 5 is out of bounds for axis 1 with size 5"
     ]
    }
   ],
   "source": [
    "import matplotlib as mpl\n",
    "mpl.rcParams['agg.path.chunksize'] = 100000\n",
    "\n",
    "%matplotlib inline\n",
    "plt.plot(olfac_sync[:,5])\n",
    "plt.show()"
   ]
  },
  {
   "cell_type": "code",
   "execution_count": null,
   "metadata": {},
   "outputs": [],
   "source": [
    "# Testing motion correction\n",
    "#print(f'{datetime.datetime.now().time()}: Starting Motion Correction')\n",
    "#_, _, motion_corrected_frames_all = motion_correct(dat=recordings['recording_1'].all_frames, out=None, mode='ecc', apply_shifts=True)\n",
    "#print(f'{datetime.datetime.now().time()}: Done Motion Correction')\n",
    "#np.save(params['path_to_session_data']+\"\\motion_corrected_data\",motion_corrected_frames_all)"
   ]
  },
  {
   "cell_type": "code",
   "execution_count": null,
   "metadata": {},
   "outputs": [],
   "source": [
    "motion_corrected_frames_all = np.load(r\"C:\\Users\\evilm\\Downloads\\07-18-2024\\motion_corrected_data.npy\")"
   ]
  },
  {
   "cell_type": "code",
   "execution_count": null,
   "metadata": {},
   "outputs": [],
   "source": [
    "blue_frames = motion_corrected_frames_all[0:2000,0,...]\n",
    "violet_frames = motion_corrected_frames_all[0:2000,1,...]\n",
    "motion_corrected_frames_all = []\n",
    "\n",
    "# Testing Normalising \n",
    "blue_normalised_frames = [(frame-np.min(frame))/(np.max(frame)-np.min(frame)) for frame in tqdm(blue_frames[:])]\n",
    "viol_normalised_frames = [(frame-np.min(frame))/(np.max(frame)-np.min(frame)) for frame in tqdm(violet_frames[:])]\n",
    "\n",
    "hemo_corrected_frames = [(blue_normalised_frames[i] - viol_normalised_frames[i]) for i in tqdm(range(len(blue_normalised_frames)))]"
   ]
  },
  {
   "cell_type": "code",
   "execution_count": null,
   "metadata": {},
   "outputs": [],
   "source": [
    "# %matplotlib inline\n",
    "# import matplotlib.animation as animation\n",
    "# plt.figure\n",
    "# plt.imshow(blue_normalised_frames[0],cmap='gray')\n",
    "# plt.show()\n",
    "\n",
    "# plt.figure\n",
    "# plt.imshow(viol_normalised_frames[0],cmap='gray')\n",
    "# plt.show()\n",
    "\n",
    "# hemo_corr = blue_normalised_frames[0]-viol_normalised_frames[0]\n",
    "# plt.figure\n",
    "# plt.imshow(hemo_corr,cmap='gray')\n",
    "# plt.show()\n",
    "\n",
    "# print(np.max(hemo_corr))\n",
    "# print(np.min(hemo_corr))\n",
    "# hemo_corr = (hemo_corr - np.min(hemo_corr))/(np.max(hemo_corr)-np.min(hemo_corr))\n",
    "\n",
    "# plt.figure\n",
    "# plt.imshow(hemo_corr,cmap='gray')\n",
    "# plt.show()\n",
    "# print(np.max(hemo_corr))\n",
    "# print(np.min(hemo_corr))\n",
    "\n",
    "frames = []\n",
    "fig = plt.figure()\n",
    "for i in tqdm(range(len(hemo_corrected_frames))):\n",
    "    frames.append([plt.imshow(hemo_corrected_frames[i],\n",
    "                             cmap=plt.cm.Greys_r, animated = True)])\n",
    "ani = animation.ArtistAnimation(fig,frames,interval=40, blit = True, repeat_delay=1000)\n",
    "#ni.save('movie.mp4')\n",
    "plt.show()\n"
   ]
  },
  {
   "cell_type": "code",
   "execution_count": null,
   "metadata": {},
   "outputs": [],
   "source": [
    "# Testing Denoising and Compression\n",
    "motion_corrected_frames_all = np.load(r\"C:\\Users\\evilm\\Downloads\\07-18-2024\\motion_corrected_data.npy\")\n",
    "# 2. Denoising and Compression\n",
    "print(f'{datetime.datetime.now().time()}: Starting  Blue Frames')\n",
    "denoised_blue_frames, blueU, blueS, blueVT = denoise_svd(motion_corrected_frames_all[:,0,...],rank=200) # only denoise blue channel for now\n",
    "print(f'{datetime.datetime.now().time()}: Done Denoising Blue Frames')\n",
    "\n",
    "print(f'{datetime.datetime.now().time()}: Starting  Violet Frames')\n",
    "denoised_violet_frames, violetU, violetS, violetVT = denoise_svd(motion_corrected_frames_all[:,1,...],rank=200) # only denoise blue channel for now\n",
    "print(f'{datetime.datetime.now().time()}: Done Denoising Violet Frames')\n",
    "\n",
    "np.save(params['path_to_session_data']+\"\\denoised_blue_frames\",denoised_blue_frames)\n",
    "np.save(params['path_to_session_data']+\"\\denoised_violet_frames\",denoised_violet_frames)\n",
    "np.save(params['path_to_session_data']+\"\\blueU\",blueU)\n",
    "np.save(params['path_to_session_data']+\"\\blueS\",blueS)\n",
    "np.save(params['path_to_session_data']+\"\\blueVT\",blueVT)\n",
    "np.save(params['path_to_session_data']+\"\\violetU\",violetU)\n",
    "np.save(params['path_to_session_data']+\"\\violetS\",violetS)\n",
    "np.save(params['path_to_session_data']+\"\\violetVT\",violetVT)"
   ]
  },
  {
   "cell_type": "code",
   "execution_count": null,
   "metadata": {},
   "outputs": [],
   "source": [
    "#get_recording_paths(params['path_to_session_data'])\n",
    "'''\n",
    "data = recordings['recording_1'].demo_pipeline()\n",
    "data = np.array(data)\n",
    "np.save(params['path_to_session_data']+\"\\blue_frame_data\",data)\n",
    "'''"
   ]
  },
  {
   "cell_type": "code",
   "execution_count": null,
   "metadata": {},
   "outputs": [],
   "source": [
    "#data = np.load(r\"C:\\Users\\evilm\\Downloads\\07-18-2024\\blue_frame_data.npy\")"
   ]
  },
  {
   "cell_type": "code",
   "execution_count": null,
   "metadata": {},
   "outputs": [],
   "source": [
    "#%matplotlib inline\n",
    "#plt.imshow(np.mean(data,axis=0),cmap=\"gray\")\n",
    "#plt.show()"
   ]
  }
 ],
 "metadata": {
  "kernelspec": {
   "display_name": "Python 3",
   "language": "python",
   "name": "python3"
  },
  "language_info": {
   "codemirror_mode": {
    "name": "ipython",
    "version": 3
   },
   "file_extension": ".py",
   "mimetype": "text/x-python",
   "name": "python",
   "nbconvert_exporter": "python",
   "pygments_lexer": "ipython3",
   "version": "3.11.9"
  }
 },
 "nbformat": 4,
 "nbformat_minor": 2
}
