{
 "cells": [
  {
   "cell_type": "code",
   "execution_count": null,
   "metadata": {},
   "outputs": [],
   "source": [
    "# The following file is being used to test the Pipeline\n",
    "''' Import statements for all the files involved'''\n",
    "%matplotlib inline\n",
    "from main import *\n",
    "from utils import *\n",
    "from wfield_utils import *\n",
    "from registration import *\n",
    "from hemocorrection import *\n",
    "from denoising import *\n",
    "from debug_visualize import *\n",
    "from data_loading_functions import *\n",
    "from data_preprocessor import *\n",
    "from tqdm import tqdm"
   ]
  },
  {
   "cell_type": "code",
   "execution_count": null,
   "metadata": {},
   "outputs": [],
   "source": [
    "# The folllowing code is from main(). \n",
    "# params are global variables used to modify the code\n",
    "params = {\n",
    "    'path_to_session_data':       r\"C:\\Users\\evilm\\Downloads\\07-18-2024\",\n",
    "    'pipe_num':           0,              # select desired pipeline number\n",
    "    'get_raw_brightness': False,\n",
    "    'get_DeltaF':         False,\n",
    "    'get_zScore':         False\n",
    "          }\n",
    "# This is inside def main()\n",
    "# For purposes of testing to visualise the data we will do analysis here.\n",
    "session_file_paths = get_file_paths(params['path_to_session_data'])\n",
    "# create an obj for each recording within the session\n",
    "recordings = {}\n",
    "if session_file_paths != 0:\n",
    "    n = 1\n",
    "    recordings[f'recording_{n}'] = rawDataPreprocessor(params['path_to_session_data'])\n",
    "\n",
    "print(f'{datetime.datetime.now().time()}: Done loading session data into object')\n"
   ]
  },
  {
   "cell_type": "code",
   "execution_count": null,
   "metadata": {},
   "outputs": [],
   "source": [
    "#get_recording_paths(params['path_to_session_data'])\n",
    "data = recordings['recording_1'].demo_pipeline()\n",
    "data = np.array(data)\n",
    "np.save(params['path_to_session_data']+\"blue_frame_data\",data)"
   ]
  },
  {
   "cell_type": "code",
   "execution_count": null,
   "metadata": {},
   "outputs": [],
   "source": []
  },
  {
   "cell_type": "code",
   "execution_count": null,
   "metadata": {},
   "outputs": [],
   "source": [
    "#plt.imshow(recordings['recording_1'].blue_frames[0],cmap='gray')\n",
    "#plt.show()"
   ]
  },
  {
   "cell_type": "code",
   "execution_count": null,
   "metadata": {},
   "outputs": [],
   "source": [
    "#plt.imshow(recordings['recording_1'].violet_frames[0],cmap='gray')\n",
    "#plt.show()"
   ]
  }
 ],
 "metadata": {
  "kernelspec": {
   "display_name": "Python 3",
   "language": "python",
   "name": "python3"
  },
  "language_info": {
   "codemirror_mode": {
    "name": "ipython",
    "version": 3
   },
   "file_extension": ".py",
   "mimetype": "text/x-python",
   "name": "python",
   "nbconvert_exporter": "python",
   "pygments_lexer": "ipython3",
   "version": "3.11.9"
  }
 },
 "nbformat": 4,
 "nbformat_minor": 2
}
